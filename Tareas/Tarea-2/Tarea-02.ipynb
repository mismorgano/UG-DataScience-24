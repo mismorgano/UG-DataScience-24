{
  "cells": [
    {
      "cell_type": "code",
      "execution_count": 288,
      "metadata": {
        "id": "J76bt0zifWT_",
        "vscode": {
          "languageId": "r"
        }
      },
      "outputs": [],
      "source": [
        "library(ggplot2)\n",
        "library(nnet)\n",
        "\n",
        "# load data\n",
        "data(iris)\n",
        "X <- iris[, 1:4]\n",
        "Y <- iris[, 5]\n"
      ]
    },
    {
      "cell_type": "code",
      "execution_count": 289,
      "metadata": {
        "id": "NHWnWyScfWUB",
        "vscode": {
          "languageId": "r"
        }
      },
      "outputs": [],
      "source": [
        "# plot the decision boundary\n",
        "\n",
        "plot_decision_regions <- function(model, data) {\n",
        "  var <- all.vars(formula(model))\n",
        "  input <- var[-1]\n",
        "\n",
        "  stopifnot(length(input) == 2)\n",
        "  output <- var[1]\n",
        "  # make a grid of points\n",
        "  x <- seq(min(data[[input[1]]]), max(data[[input[1]]]), length.out = 100)\n",
        "  y <- seq(min(data[[input[2]]]), max(data[[input[2]]]), length.out = 100)\n",
        "  grid <- expand.grid(x, y)\n",
        "  grid <- setNames(grid, input)\n",
        "\n",
        "\n",
        "  # predict the values\n",
        "  grid[[output]] <- as.factor(predict(model, grid))\n",
        "  # plot the decision boundary\n",
        "  ggplot() +\n",
        "    geom_point(data = data, aes(x = .data[[input[1]]], y = .data[[input[2]]], color = .data[[output]]), size = 3) +\n",
        "    geom_tile(data = grid, aes(x = .data[[input[1]]], y = .data[[input[2]]], fill = .data[[output]]), alpha = 0.5) +\n",
        "    scale_fill_manual(values = c(\"setosa\" = \"#914fbd\", \"versicolor\" = \"#92c0c6\", \"virginica\" = \"#ebf08b\")) +\n",
        "    scale_color_manual(values = c(\"setosa\" = \"#440154\", \"versicolor\" = \"#2bacd3\", \"virginica\" = \"#ebd93e\")) +\n",
        "    theme_minimal() +\n",
        "    labs(\n",
        "      title = \"Decision Boundaries for Multiclass Logistic Regression\",\n",
        "      subtitle = sprintf(\"%s Dataset\", deparse(substitute(data))),\n",
        "      x = input[1],\n",
        "      y = input[2],\n",
        "    )\n",
        "}\n"
      ]
    },
    {
      "cell_type": "markdown",
      "metadata": {
        "id": "93Xhln_JfWUD"
      },
      "source": [
        "## Logistic Regression model"
      ]
    },
    {
      "cell_type": "code",
      "execution_count": 290,
      "metadata": {
        "colab": {
          "base_uri": "https://localhost:8080/",
          "height": 295
        },
        "id": "dhH24TgjfWUF",
        "outputId": "aa80e632-5d51-423f-b53a-d505166dcd8c",
        "vscode": {
          "languageId": "r"
        }
      },
      "outputs": [
        {
          "name": "stdout",
          "output_type": "stream",
          "text": [
            "# weights:  12 (6 variable)\n",
            "initial  value 164.791843 \n",
            "iter  10 value 62.715967\n",
            "iter  20 value 59.808291\n",
            "iter  30 value 55.445984\n",
            "iter  40 value 55.375704\n",
            "iter  50 value 55.346472\n",
            "iter  60 value 55.301707\n",
            "iter  70 value 55.253532\n",
            "iter  80 value 55.243230\n",
            "iter  90 value 55.230241\n",
            "iter 100 value 55.212479\n",
            "final  value 55.212479 \n",
            "stopped after 100 iterations\n"
          ]
        },
        {
          "data": {
            "text/html": [
              "'Misclassified: 25'"
            ],
            "text/latex": [
              "'Misclassified: 25'"
            ],
            "text/markdown": [
              "'Misclassified: 25'"
            ],
            "text/plain": [
              "[1] \"Misclassified: 25\""
            ]
          },
          "metadata": {},
          "output_type": "display_data"
        },
        {
          "data": {
            "text/html": [
              "'Accuracy: 0.83'"
            ],
            "text/latex": [
              "'Accuracy: 0.83'"
            ],
            "text/markdown": [
              "'Accuracy: 0.83'"
            ],
            "text/plain": [
              "[1] \"Accuracy: 0.83\""
            ]
          },
          "metadata": {},
          "output_type": "display_data"
        }
      ],
      "source": [
        "# model based on thw first two features of the iris dataset\n",
        "model <- multinom(Species ~ Sepal.Length + Sepal.Width, data = iris)\n",
        "predictions <- predict(model, iris)\n",
        "\n",
        "# number of misclassified samples\n",
        "sprintf(\"Misclassified: %d\", sum(predictions != iris$Species))\n",
        "\n",
        "# accuracy\n",
        "sprintf(\"Accuracy: %.2f\", sum(predictions == iris$Species) / nrow(iris))\n"
      ]
    },
    {
      "cell_type": "code",
      "execution_count": 291,
      "metadata": {
        "colab": {
          "base_uri": "https://localhost:8080/",
          "height": 437
        },
        "id": "ccjcFs0-fWUG",
        "outputId": "e4a069a5-aad2-41ac-df94-3507508766ac",
        "vscode": {
          "languageId": "r"
        }
      },
      "outputs": [
        {
          "data": {
            "image/png": "[encoded data removed]",
            "text/plain": [
              "plot without title"
            ]
          },
          "metadata": {
            "image/png": {
              "height": 420,
              "width": 420
            }
          },
          "output_type": "display_data"
        }
      ],
      "source": [
        "plot_decision_regions(model, iris)"
      ]
    },
    {
      "cell_type": "markdown",
      "metadata": {
        "id": "iyrVqQ8vfWUG"
      },
      "source": [
        "## Observaciones\n",
        "\n",
        "Como podemos observar del código\n",
        "```python\n",
        "from sklearn.datasets import load_iris\n",
        "iris = load_iris()\n",
        "X = iris.data[: , :2]\n",
        "Y = iris.target\n",
        "```\n",
        "Se usan las primeras dos características para construir el clasificador, esto para poder visualizar las regiones $R_i$ del clasificador.\n",
        "\n",
        "Sin embargo, escoger estas dos características me parecía un poco arbitrario.\n",
        "Asi que busque otras dos, y también considere todas las características."
      ]
    },
    {
      "cell_type": "markdown",
      "metadata": {
        "id": "KpkuQ32yfWUH"
      },
      "source": [
        "## con Petal.Length y Petal.Width\n",
        "\n",
        "La precision del clasificador es 0.96."
      ]
    },
    {
      "cell_type": "code",
      "execution_count": 292,
      "metadata": {
        "colab": {
          "base_uri": "https://localhost:8080/",
          "height": 295
        },
        "id": "Ib_r0Af1fWUH",
        "outputId": "88df1954-ccef-46e3-fc25-9a1afb1fb60a",
        "vscode": {
          "languageId": "r"
        }
      },
      "outputs": [
        {
          "name": "stdout",
          "output_type": "stream",
          "text": [
            "# weights:  12 (6 variable)\n",
            "initial  value 164.791843 \n",
            "iter  10 value 12.657828\n",
            "iter  20 value 10.374056\n",
            "iter  30 value 10.330881\n",
            "iter  40 value 10.306926\n",
            "iter  50 value 10.300057\n",
            "iter  60 value 10.296452\n",
            "iter  70 value 10.294046\n",
            "iter  80 value 10.292029\n",
            "iter  90 value 10.291154\n",
            "iter 100 value 10.289505\n",
            "final  value 10.289505 \n",
            "stopped after 100 iterations\n"
          ]
        },
        {
          "data": {
            "text/html": [
              "'Misclassified: 6'"
            ],
            "text/latex": [
              "'Misclassified: 6'"
            ],
            "text/markdown": [
              "'Misclassified: 6'"
            ],
            "text/plain": [
              "[1] \"Misclassified: 6\""
            ]
          },
          "metadata": {},
          "output_type": "display_data"
        },
        {
          "data": {
            "text/html": [
              "'Accuracy: 0.96'"
            ],
            "text/latex": [
              "'Accuracy: 0.96'"
            ],
            "text/markdown": [
              "'Accuracy: 0.96'"
            ],
            "text/plain": [
              "[1] \"Accuracy: 0.96\""
            ]
          },
          "metadata": {},
          "output_type": "display_data"
        }
      ],
      "source": [
        "# model based on thw first two features of the iris dataset\n",
        "model <- multinom(Species ~ Petal.Length + Petal.Width, data = iris)\n",
        "predictions <- predict(model, iris)\n",
        "\n",
        "# number of misclassified samples\n",
        "sprintf(\"Misclassified: %d\", sum(predictions != iris$Species))\n",
        "\n",
        "# accuracy\n",
        "sprintf(\"Accuracy: %.2f\", sum(predictions == iris$Species) / nrow(iris))\n"
      ]
    },
    {
      "cell_type": "code",
      "execution_count": 293,
      "metadata": {
        "colab": {
          "base_uri": "https://localhost:8080/",
          "height": 437
        },
        "id": "QuhaRMjMfWUH",
        "outputId": "0f2c93f3-04b1-493f-f714-c45aab27758a",
        "vscode": {
          "languageId": "r"
        }
      },
      "outputs": [
        {
          "data": {
            "image/png": "[encoded data removed]",
            "text/plain": [
              "plot without title"
            ]
          },
          "metadata": {
            "image/png": {
              "height": 420,
              "width": 420
            }
          },
          "output_type": "display_data"
        }
      ],
      "source": [
        "plot_decision_regions(model, iris)"
      ]
    },
    {
      "cell_type": "markdown",
      "metadata": {
        "id": "0cHw7gpWfWUI"
      },
      "source": [
        "## Todas las características\n",
        "\n",
        "La precisión del clasificador es 0.99"
      ]
    },
    {
      "cell_type": "code",
      "execution_count": 294,
      "metadata": {
        "colab": {
          "base_uri": "https://localhost:8080/",
          "height": 295
        },
        "id": "i3cFWxfpfWUI",
        "outputId": "ed63479e-d938-48fe-87ef-b320fc8d9d94",
        "vscode": {
          "languageId": "r"
        }
      },
      "outputs": [
        {
          "name": "stdout",
          "output_type": "stream",
          "text": [
            "# weights:  18 (10 variable)\n",
            "initial  value 164.791843 \n",
            "iter  10 value 16.177348\n",
            "iter  20 value 7.111438\n",
            "iter  30 value 6.182999\n",
            "iter  40 value 5.984028\n",
            "iter  50 value 5.961278\n",
            "iter  60 value 5.954900\n",
            "iter  70 value 5.951851\n",
            "iter  80 value 5.950343\n",
            "iter  90 value 5.949904\n",
            "iter 100 value 5.949867\n",
            "final  value 5.949867 \n",
            "stopped after 100 iterations\n"
          ]
        },
        {
          "data": {
            "text/html": [
              "'Misclassified: 2'"
            ],
            "text/latex": [
              "'Misclassified: 2'"
            ],
            "text/markdown": [
              "'Misclassified: 2'"
            ],
            "text/plain": [
              "[1] \"Misclassified: 2\""
            ]
          },
          "metadata": {},
          "output_type": "display_data"
        },
        {
          "data": {
            "text/html": [
              "'Accuracy: 0.99'"
            ],
            "text/latex": [
              "'Accuracy: 0.99'"
            ],
            "text/markdown": [
              "'Accuracy: 0.99'"
            ],
            "text/plain": [
              "[1] \"Accuracy: 0.99\""
            ]
          },
          "metadata": {},
          "output_type": "display_data"
        }
      ],
      "source": [
        "model <- multinom(Species ~ ., data = iris)\n",
        "predictions <- predict(model, iris)\n",
        "\n",
        "# number of misclassified samples\n",
        "sprintf(\"Misclassified: %d\", sum(predictions != iris$Species))\n",
        "\n",
        "# accuracy\n",
        "sprintf(\"Accuracy: %.2f\", sum(predictions == iris$Species) / nrow(iris))\n"
      ]
    },
    {
      "cell_type": "markdown",
      "metadata": {
        "id": "azvrsMzMfWUJ"
      },
      "source": [
        "Y en mi búsqueda por un clasificador logístico en `R`, me encontré con que un clasificador lineal también funciona bien."
      ]
    },
    {
      "cell_type": "code",
      "execution_count": 295,
      "metadata": {
        "colab": {
          "base_uri": "https://localhost:8080/",
          "height": 52
        },
        "id": "kV0Sm_-MfWUJ",
        "outputId": "929ab35e-5103-419e-8384-e91091146ed9",
        "vscode": {
          "languageId": "r"
        }
      },
      "outputs": [
        {
          "data": {
            "text/html": [
              "'Misclassified: 37'"
            ],
            "text/latex": [
              "'Misclassified: 37'"
            ],
            "text/markdown": [
              "'Misclassified: 37'"
            ],
            "text/plain": [
              "[1] \"Misclassified: 37\""
            ]
          },
          "metadata": {},
          "output_type": "display_data"
        },
        {
          "data": {
            "text/html": [
              "'Accuracy: 0.753333'"
            ],
            "text/latex": [
              "'Accuracy: 0.753333'"
            ],
            "text/markdown": [
              "'Accuracy: 0.753333'"
            ],
            "text/plain": [
              "[1] \"Accuracy: 0.753333\""
            ]
          },
          "metadata": {},
          "output_type": "display_data"
        }
      ],
      "source": [
        "model <- glm(as.numeric(Species) ~ Sepal.Length + Sepal.Width, data = iris)\n",
        "# misclassified\n",
        "misclas <- sum(round(predict(model)) != as.numeric(iris$Species))\n",
        "sprintf(\"Misclassified: %d\", misclas)\n",
        "# accuracy\n",
        "sprintf(\"Accuracy: %f\", 1 - misclas / nrow(iris))\n"
      ]
    },
    {
      "cell_type": "code",
      "execution_count": 296,
      "metadata": {
        "colab": {
          "base_uri": "https://localhost:8080/",
          "height": 52
        },
        "id": "vgLTIPLTfWUK",
        "outputId": "4238c5a4-9774-45b1-e36c-78cc07fbb9d6",
        "vscode": {
          "languageId": "r"
        }
      },
      "outputs": [
        {
          "data": {
            "text/html": [
              "'Misclassified: 6'"
            ],
            "text/latex": [
              "'Misclassified: 6'"
            ],
            "text/markdown": [
              "'Misclassified: 6'"
            ],
            "text/plain": [
              "[1] \"Misclassified: 6\""
            ]
          },
          "metadata": {},
          "output_type": "display_data"
        },
        {
          "data": {
            "text/html": [
              "'Accuracy: 0.960000'"
            ],
            "text/latex": [
              "'Accuracy: 0.960000'"
            ],
            "text/markdown": [
              "'Accuracy: 0.960000'"
            ],
            "text/plain": [
              "[1] \"Accuracy: 0.960000\""
            ]
          },
          "metadata": {},
          "output_type": "display_data"
        }
      ],
      "source": [
        "model <- glm(as.numeric(Species) ~ Petal.Length + Petal.Width, data = iris)\n",
        "\n",
        "# misclassified\n",
        "misclas <- sum(round(predict(model)) != as.numeric(iris$Species))\n",
        "sprintf(\"Misclassified: %d\", misclas)\n",
        "\n",
        "# acuracy\n",
        "sprintf(\"Accuracy: %f\", 1 - misclas / nrow(iris))\n"
      ]
    },
    {
      "cell_type": "code",
      "execution_count": 297,
      "metadata": {
        "colab": {
          "base_uri": "https://localhost:8080/",
          "height": 52
        },
        "id": "iKM60fEVfWUK",
        "outputId": "fbf778d3-90e6-4d9a-f684-cbe2c29ec41c",
        "vscode": {
          "languageId": "r"
        }
      },
      "outputs": [
        {
          "data": {
            "text/html": [
              "'Misclassified: 4'"
            ],
            "text/latex": [
              "'Misclassified: 4'"
            ],
            "text/markdown": [
              "'Misclassified: 4'"
            ],
            "text/plain": [
              "[1] \"Misclassified: 4\""
            ]
          },
          "metadata": {},
          "output_type": "display_data"
        },
        {
          "data": {
            "text/html": [
              "'Accuracy: 0.973333'"
            ],
            "text/latex": [
              "'Accuracy: 0.973333'"
            ],
            "text/markdown": [
              "'Accuracy: 0.973333'"
            ],
            "text/plain": [
              "[1] \"Accuracy: 0.973333\""
            ]
          },
          "metadata": {},
          "output_type": "display_data"
        }
      ],
      "source": [
        "model <- glm(as.numeric(Species) ~ ., data = iris)\n",
        "\n",
        "# misclassified\n",
        "misclas <- sum(round(predict(model)) != as.numeric(iris$Species))\n",
        "sprintf(\"Misclassified: %d\", misclas)\n",
        "\n",
        "# acuracy\n",
        "sprintf(\"Accuracy: %f\", 1 - misclas / nrow(iris))\n"
      ]
    },
    {
      "cell_type": "code",
      "execution_count": 11,
      "metadata": {
        "id": "wtpkReVlfp7s",
        "vscode": {
          "languageId": "r"
        }
      },
      "outputs": [],
      "source": []
    }
  ],
  "metadata": {
    "colab": {
      "provenance": []
    },
    "kernelspec": {
      "display_name": "R",
      "language": "R",
      "name": "ir"
    },
    "language_info": {
      "codemirror_mode": "r",
      "file_extension": ".r",
      "mimetype": "text/x-r-source",
      "name": "R",
      "pygments_lexer": "r",
      "version": "4.4.1"
    }
  },
  "nbformat": 4,
  "nbformat_minor": 0
}
